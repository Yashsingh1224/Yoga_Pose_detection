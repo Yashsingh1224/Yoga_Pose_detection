{
 "cells": [
  {
   "cell_type": "code",
   "execution_count": 1,
   "id": "54b6a9ff-ec04-43da-ba40-ca3874fa54dc",
   "metadata": {},
   "outputs": [],
   "source": [
    "import tensorflow as tf\n",
    "from tensorflow.keras.models import load_model\n",
    "from tensorflow.keras.preprocessing.image import load_img, img_to_array\n",
    "import numpy as np"
   ]
  },
  {
   "cell_type": "code",
   "execution_count": 3,
   "id": "254d2371-f8fa-4c3d-bf1d-2eaee0cae53e",
   "metadata": {},
   "outputs": [
    {
     "name": "stderr",
     "output_type": "stream",
     "text": [
      "WARNING:absl:Compiled the loaded model, but the compiled metrics have yet to be built. `model.compile_metrics` will be empty until you train or evaluate the model.\n"
     ]
    }
   ],
   "source": [
    "# Load the Model\n",
    "model = load_model('model/yoga_pose_model_final.h5')\n"
   ]
  },
  {
   "cell_type": "code",
   "execution_count": 11,
   "id": "c70c4317-a05d-4372-bb34-e6c4564b9402",
   "metadata": {},
   "outputs": [],
   "source": [
    "# Class Labels\n",
    "class_labels = ['downdog', 'goddess', 'plank', 'tree', 'warrior']"
   ]
  },
  {
   "cell_type": "code",
   "execution_count": 12,
   "id": "c737cc0f-2ae4-4f5b-9fe6-8f54badbe67e",
   "metadata": {},
   "outputs": [],
   "source": [
    "def predict_pose(image_path):\n",
    "    img = load_img(image_path, target_size=(224, 224))\n",
    "    img_array = img_to_array(img)\n",
    "    img_array = np.expand_dims(img_array, axis=0)\n",
    "    img_array /= 255.0\n",
    "\n",
    "    predictions = model.predict(img_array)\n",
    "    predicted_pose = class_labels[np.argmax(predictions)]\n",
    "    return predicted_pose\n"
   ]
  },
  {
   "cell_type": "code",
   "execution_count": 21,
   "id": "b279d02c-ea5d-4787-8efa-daa19286e771",
   "metadata": {},
   "outputs": [
    {
     "name": "stdin",
     "output_type": "stream",
     "text": [
      "Enter the path of the image:  sample2.jpg\n"
     ]
    },
    {
     "name": "stdout",
     "output_type": "stream",
     "text": [
      "\u001b[1m1/1\u001b[0m \u001b[32m━━━━━━━━━━━━━━━━━━━━\u001b[0m\u001b[37m\u001b[0m \u001b[1m0s\u001b[0m 31ms/step\n",
      "The predicted pose is: plank\n"
     ]
    }
   ],
   "source": [
    "if __name__ == \"__main__\":\n",
    "    image_path = input(\"Enter the path of the image: \")\n",
    "    pose = predict_pose(image_path)\n",
    "    print(f\"The predicted pose is: {pose}\")\n"
   ]
  },
  {
   "cell_type": "code",
   "execution_count": null,
   "id": "bc129de8-33f0-4e7e-ab95-80ad642f61f6",
   "metadata": {},
   "outputs": [],
   "source": []
  }
 ],
 "metadata": {
  "kernelspec": {
   "display_name": "Python 3 (ipykernel)",
   "language": "python",
   "name": "python3"
  },
  "language_info": {
   "codemirror_mode": {
    "name": "ipython",
    "version": 3
   },
   "file_extension": ".py",
   "mimetype": "text/x-python",
   "name": "python",
   "nbconvert_exporter": "python",
   "pygments_lexer": "ipython3",
   "version": "3.10.11"
  }
 },
 "nbformat": 4,
 "nbformat_minor": 5
}
